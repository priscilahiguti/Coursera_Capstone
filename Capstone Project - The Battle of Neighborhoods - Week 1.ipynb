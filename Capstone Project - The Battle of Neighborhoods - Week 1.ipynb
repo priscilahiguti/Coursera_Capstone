{
 "cells": [
  {
   "cell_type": "markdown",
   "metadata": {},
   "source": [
    "## Capstone Project - The Battle of Neighborhoods \n",
    "\n",
    "### Finding a nice neighborhood to live in both Calgary and Edmonton.\n",
    "\n",
    "Priscila Nascimento"
   ]
  },
  {
   "cell_type": "markdown",
   "metadata": {},
   "source": [
    "#### Introduction/Business Problem"
   ]
  },
  {
   "cell_type": "markdown",
   "metadata": {},
   "source": [
    "This project aims to find the top 5 best neighborhoods to live in both Calgary and Edmonton.\n",
    "The features that will be considered in the choice are:\n",
    "\n",
    "- the average rent,\n",
    "- transport,\n",
    "- distance/time from neighborhood to workplace,\n",
    "- parks,\n",
    "- restaurants, \n",
    "- movie theatres,\n",
    "- groceries store\n",
    "- pharmacies\n",
    "\n",
    "In the end, it will be possible to compare the top 5 best neighborhoods of these two cities and determine how similar or dissimilar they are."
   ]
  },
  {
   "cell_type": "markdown",
   "metadata": {},
   "source": [
    "#### Data Requirements"
   ]
  },
  {
   "cell_type": "markdown",
   "metadata": {},
   "source": [
    "1. A list of Calgary neighborhoods with its features.\n",
    "\n",
    "2. A list of Edmonton neighborhoods with its features.\n"
   ]
  },
  {
   "cell_type": "code",
   "execution_count": null,
   "metadata": {},
   "outputs": [],
   "source": []
  }
 ],
 "metadata": {
  "kernelspec": {
   "display_name": "Python 3",
   "language": "python",
   "name": "python3"
  },
  "language_info": {
   "codemirror_mode": {
    "name": "ipython",
    "version": 3
   },
   "file_extension": ".py",
   "mimetype": "text/x-python",
   "name": "python",
   "nbconvert_exporter": "python",
   "pygments_lexer": "ipython3",
   "version": "3.7.6"
  }
 },
 "nbformat": 4,
 "nbformat_minor": 4
}
